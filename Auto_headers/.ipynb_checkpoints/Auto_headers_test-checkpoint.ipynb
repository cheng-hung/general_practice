{
 "cells": [
  {
   "cell_type": "code",
   "execution_count": 1,
   "id": "80844972-6ea4-4a49-ac97-0b03ade1fa00",
   "metadata": {},
   "outputs": [],
   "source": [
    "import os\n",
    "import pandas as pd"
   ]
  },
  {
   "cell_type": "code",
   "execution_count": 2,
   "id": "26d14ca7-6b51-494f-ae12-b7461dace695",
   "metadata": {},
   "outputs": [],
   "source": [
    "fn = 'Cs_010_20250608-173020_a5e8e9_scattering-1_mean_q.gr'"
   ]
  },
  {
   "cell_type": "code",
   "execution_count": 3,
   "id": "526d5d8d-8c85-42ff-b703-9dedd4b782a7",
   "metadata": {},
   "outputs": [],
   "source": [
    "cont_01 = []\n",
    "with open(fn, 'r') as f:\n",
    "    cont = f.readlines()\n",
    "    f.close()\n",
    "\n",
    "for line in cont:\n",
    "    new_line = line.strip('\\n').split(' ')\n",
    "    cont_01.append(new_line)"
   ]
  },
  {
   "cell_type": "code",
   "execution_count": 4,
   "id": "33c182aa-1d83-47ef-ba85-671a45b41f09",
   "metadata": {},
   "outputs": [
    {
     "data": {
      "text/plain": [
       "[['#', 'xPDFsuite', 'Configuration', '#'],\n",
       " ['[PDF]'],\n",
       " ['wavelength', '=', '0.1'],\n",
       " ['dataformat', '=', 'QA'],\n",
       " ['inputfile',\n",
       "  '=',\n",
       "  'Cs_010_Br_136_Pb_093_OLA_000_PF_020_Tol_1195_20250608-173020_a5e8e9_scattering-1_mean_q.chi'],\n",
       " ['backgroundfile',\n",
       "  '=',\n",
       "  'Tol_OA_bkg_flow_day3_20250608-142159_7cf153_primary-1_mean_q.chi'],\n",
       " ['mode', '=', 'xray'],\n",
       " ['bgscale', '=', '1.16'],\n",
       " ['composition', '=', 'CsPbBr'],\n",
       " ['outputtype', '=', 'gr'],\n",
       " ['qmaxinst', '=', '25.0'],\n",
       " ['qmin', '=', '0.8'],\n",
       " ['qmax', '=', '11.5475'],\n",
       " ['rmax', '=', '100.0'],\n",
       " ['rmin', '=', '0.0'],\n",
       " ['rstep', '=', '0.01'],\n",
       " ['rpoly', '=', '1.4'],\n",
       " [''],\n",
       " ['[Misc]'],\n",
       " ['inputdir',\n",
       "  '=',\n",
       "  '/Volumes/Data1/Analysis/LDRD20-31_Sanjit/May2025_Autonomous/Data/Chi'],\n",
       " ['savedir',\n",
       "  '=',\n",
       "  '/Volumes/Data1/Analysis/LDRD20-31_Sanjit/May2025_Autonomous/Data/Gr'],\n",
       " ['backgroundfilefull',\n",
       "  '=',\n",
       "  '/Volumes/Data1/Data/LDRD20-31_Sanjit_May2025/Ghose_316490_d49d3e59/Tol_OA_bkg_flow_day3/integration/Tol_OA_bkg_flow_day3_20250608-142159_7cf153_primary-1_mean_q.chi'],\n",
       " [''],\n",
       " ['####', 'start', 'data'],\n",
       " ['#S', '1'],\n",
       " ['#L', 'r($\\\\AA$)', '', 'G($\\\\AA^{-2}$)']]"
      ]
     },
     "execution_count": 4,
     "metadata": {},
     "output_type": "execute_result"
    }
   ],
   "source": [
    "cont_01[:26]"
   ]
  },
  {
   "cell_type": "code",
   "execution_count": 5,
   "id": "1a266f03-a322-48d4-b2ca-9ff82239d1e9",
   "metadata": {},
   "outputs": [
    {
     "data": {
      "text/plain": [
       "True"
      ]
     },
     "execution_count": 5,
     "metadata": {},
     "output_type": "execute_result"
    }
   ],
   "source": [
    "all([len(l)==2 for l in cont_01[26:26+100]])"
   ]
  },
  {
   "cell_type": "code",
   "execution_count": 9,
   "id": "6b2bcdf6-b099-465a-afea-4c5c397de0e6",
   "metadata": {},
   "outputs": [
    {
     "name": "stdout",
     "output_type": "stream",
     "text": [
      "Num of rows of header is 26.\n"
     ]
    }
   ],
   "source": [
    "i = 0\n",
    "while i < len(cont_01):\n",
    "    c0 = (len(cont_01[i]) == 2)\n",
    "    c1 = all([len(l)==2 for l in cont_01[i:i+100]])\n",
    "    c2 = (is_float(cont_01[i][0]) and is_float(cont_01[i][1]))\n",
    "\n",
    "    if c0 and c1 and c2:\n",
    "        print(f'Num of rows of header is {i}.')\n",
    "        break\n",
    "    i += 1\n",
    "    "
   ]
  },
  {
   "cell_type": "code",
   "execution_count": 7,
   "id": "c2def9f9-c653-47aa-9b72-9d3f31203b17",
   "metadata": {},
   "outputs": [],
   "source": [
    "from Auto_headers import get_rwo_header, is_float"
   ]
  },
  {
   "cell_type": "code",
   "execution_count": 8,
   "id": "75cc5a27-e7a2-4910-ab30-06cfd089f0e1",
   "metadata": {},
   "outputs": [
    {
     "data": {
      "text/plain": [
       "26"
      ]
     },
     "execution_count": 8,
     "metadata": {},
     "output_type": "execute_result"
    }
   ],
   "source": [
    "n_headers = get_rwo_header(fn)\n",
    "n_headers"
   ]
  },
  {
   "cell_type": "code",
   "execution_count": 10,
   "id": "66d507b4-f941-4cd0-83de-a03f5aa9eb90",
   "metadata": {},
   "outputs": [
    {
     "data": {
      "text/plain": [
       "False"
      ]
     },
     "execution_count": 10,
     "metadata": {},
     "output_type": "execute_result"
    }
   ],
   "source": [
    "is_float('sss')"
   ]
  },
  {
   "cell_type": "code",
   "execution_count": 11,
   "id": "07b8c4a7-e840-4b9e-b1e4-c4456dabdc05",
   "metadata": {},
   "outputs": [
    {
     "data": {
      "text/plain": [
       "True"
      ]
     },
     "execution_count": 11,
     "metadata": {},
     "output_type": "execute_result"
    }
   ],
   "source": [
    "is_float('123.566')"
   ]
  },
  {
   "cell_type": "code",
   "execution_count": null,
   "id": "66da04b6-229d-4158-b929-3e04d0b42522",
   "metadata": {},
   "outputs": [],
   "source": []
  },
  {
   "cell_type": "code",
   "execution_count": null,
   "id": "4189e276-5ac7-4113-8bc8-1b2b247542db",
   "metadata": {},
   "outputs": [],
   "source": []
  }
 ],
 "metadata": {
  "kernelspec": {
   "display_name": "Python 3 (ipykernel)",
   "language": "python",
   "name": "python3"
  },
  "language_info": {
   "codemirror_mode": {
    "name": "ipython",
    "version": 3
   },
   "file_extension": ".py",
   "mimetype": "text/x-python",
   "name": "python",
   "nbconvert_exporter": "python",
   "pygments_lexer": "ipython3",
   "version": "3.13.5"
  }
 },
 "nbformat": 4,
 "nbformat_minor": 5
}
