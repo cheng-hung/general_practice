{
 "cells": [
  {
   "cell_type": "code",
   "execution_count": 1,
   "id": "306c32a0-546c-4d48-a1f7-350b03b99fd3",
   "metadata": {},
   "outputs": [],
   "source": [
    "#!/usr/bin/env python\n",
    "# -*- coding: utf-8 -*-\n",
    "\n",
    "# %cd /Users/matthewgreenberg/Desktop/PDFFitTest\n",
    "import pymatgen as pm\n",
    "from diffpy.pdffit2 import PdfFit\n",
    "from diffpy.Structure import loadStructure\n",
    "from pymatgen.io.cif import CifWriter\n",
    "from pymatgen.io.cif import CifParser\n",
    "import os"
   ]
  },
  {
   "cell_type": "code",
   "execution_count": 2,
   "id": "99844f7e-53e8-4688-bd58-4f80e6039ebf",
   "metadata": {},
   "outputs": [],
   "source": [
    "# Specify the path to your .cif file\n",
    "# cif_file_path = \"/Users/matthewgreenberg/Desktop/PDFFitTest/CsPbBr3_Orthorhombic.cif\"\n",
    "cif_file_path_Br = '/Users/chenghunglin/Documents/Git_BNL/general_practice/pdffit2_example/CsPbCl3/CsPbBr3_Orthorhombic.cif'\n",
    "cif_file_path_Cl = '/Users/chenghunglin/Documents/Git_BNL/general_practice/pdffit2_example/CsPbCl3/CsPbCl3_cubic.cif'"
   ]
  },
  {
   "cell_type": "code",
   "execution_count": 3,
   "id": "5ded961e-25eb-48c6-bd6c-873bf8019bd9",
   "metadata": {},
   "outputs": [
    {
     "name": "stdout",
     "output_type": "stream",
     "text": [
      "Full Formula (Cs4 Pb4 Br12)\n",
      "Reduced Formula: CsPbBr3\n",
      "abc   :   8.101078   8.453847  11.878911\n",
      "angles:  90.000000  90.000000  90.000000\n",
      "pbc   :       True       True       True\n",
      "Sites (20)\n",
      "  #  SP           a         b         c\n",
      "---  ----  --------  --------  --------\n",
      "  0  Cs    0.019452  0.060163  0.75\n",
      "  1  Cs    0.980548  0.939837  0.25\n",
      "  2  Cs    0.519452  0.439837  0.25\n",
      "  3  Cs    0.480548  0.560163  0.75\n",
      "  4  Pb    0.5       0         0\n",
      "  5  Pb    0         0.5       0\n",
      "  6  Pb    0         0.5       0.5\n",
      "  7  Pb    0.5       0         0.5\n",
      "  8  Br    0.802792  0.201022  0.031701\n",
      "  9  Br    0.197208  0.798978  0.968299\n",
      " 10  Br    0.302792  0.298978  0.968299\n",
      " 11  Br    0.697208  0.701022  0.031701\n",
      " 12  Br    0.697208  0.701022  0.468299\n",
      " 13  Br    0.302792  0.298978  0.531701\n",
      " 14  Br    0.197208  0.798978  0.531701\n",
      " 15  Br    0.802792  0.201022  0.468299\n",
      " 16  Br    0.440335  0.006259  0.25\n",
      " 17  Br    0.559665  0.993741  0.75\n",
      " 18  Br    0.940335  0.493741  0.75\n",
      " 19  Br    0.059665  0.506259  0.25 \n",
      "\n",
      "\n",
      "Full Formula (Cs1 Pb1 Cl3)\n",
      "Reduced Formula: CsPbCl3\n",
      "abc   :   5.605000   5.605000   5.605000\n",
      "angles:  90.000000  90.000000  90.000000\n",
      "pbc   :       True       True       True\n",
      "Sites (5)\n",
      "  #  SP      a    b    c\n",
      "---  ----  ---  ---  ---\n",
      "  0  Cs    0    0    0\n",
      "  1  Pb    0.5  0.5  0.5\n",
      "  2  Cl    0    0.5  0.5\n",
      "  3  Cl    0.5  0    0.5\n",
      "  4  Cl    0.5  0.5  0 \n",
      "\n",
      "\n"
     ]
    },
    {
     "name": "stderr",
     "output_type": "stream",
     "text": [
      "/var/folders/gn/7h2xsmb5013_qmqytmsw3hcm0000gq/T/ipykernel_71224/508662670.py:6: FutureWarning: get_structures is deprecated\n",
      "get_structures is deprecated and will be removed in 2024. Use parse_structures instead.The only difference is that primitive defaults to False in the new parse_structures method.So parse_structures(primitive=True) is equivalent to the old behavior of get_structures().\n",
      "  structure = parser.get_structures()[0]\n"
     ]
    }
   ],
   "source": [
    "# Initialize the CifParser with the path to your .cif file\n",
    "# Parse the .cif file\n",
    "pym_cif = []\n",
    "for cif in [cif_file_path_Br, cif_file_path_Cl]:\n",
    "    parser = CifParser(cif)\n",
    "    structure = parser.get_structures()[0] \n",
    "    structure.remove_oxidation_states()\n",
    "    print(structure, '\\n\\n')\n",
    "    fn_pym = os.path.dirname(cif) + '/' + os.path.basename(cif)[:-4] + '_pym.cif'\n",
    "    w = CifWriter(structure,symprec=0.1)\n",
    "    w.write_file(fn_pym)\n",
    "    pym_cif.append(fn_pym)"
   ]
  },
  {
   "cell_type": "code",
   "execution_count": 4,
   "id": "19ce0d0c-9581-4a77-92fb-13f288a78de3",
   "metadata": {},
   "outputs": [
    {
     "name": "stdout",
     "output_type": "stream",
     "text": [
      "\n",
      "******************************************************************************\n",
      "*                      P D F F I T   Version   1.4.3                         *\n",
      "*                                              2024-01-13                    *\n",
      "* -------------------------------------------------------------------------- *\n",
      "* (c) 1998-2007 Trustees of the Michigan State University.                   *\n",
      "* (c) 2008-2024 Trustees of the Columbia University                          *\n",
      "*               in the city of New York.                                     *\n",
      "*                                                                            *\n",
      "* Authors:                                                                   *\n",
      "*     Thomas Proffen        -   Email: tproffen@lanl.gov                     *\n",
      "*     Jacques Bloch         -   Email: bloch@pa.msu.edu                      *\n",
      "*     Christopher Farrow    -   Email: clf2121@columbia.edu                  *\n",
      "*     Pavol Juhas           -   Email: pjuhas@bnl.gov                        *\n",
      "*     Simon Billinge        -   Email: sb2896@columbia.edu                   *\n",
      "******************************************************************************\n",
      "\n"
     ]
    }
   ],
   "source": [
    "# Create new PDF calculator object.\n",
    "pf = PdfFit()"
   ]
  },
  {
   "cell_type": "code",
   "execution_count": 5,
   "id": "73cb1856-7a40-4b9f-a473-22a8618e01f6",
   "metadata": {},
   "outputs": [
    {
     "name": "stdout",
     "output_type": "stream",
     "text": [
      " Reading 2 columns ...\n",
      " Read PDF data set 1  (r = 0.01 to 100 A, 10000 points) ...\n",
      " ****WARN****\n",
      " Uncertainties on G(r) were absent or unreadable in your input\n",
      " data.  The program reset these uncertainties to unity.  This\n",
      " does not affect at all the refined parameter values.  However,\n",
      " the values of the estimated uncertainties on these refined\n",
      " parameter values are not reliable.\n",
      " ****WARN****\n",
      "\n"
     ]
    }
   ],
   "source": [
    "# Load experimental x-ray PDF data\n",
    "qmax = 20.0  # Q-cutoff used in PDF calculation in 1/A\n",
    "qdamp = 0.03 # instrument Q-resolution factor, responsible for PDF decay\n",
    "pf.read_data('CsPbBr2-Cl_64micl_10m_20220330-234135_b41155.gr', 'X', qmax, qdamp)"
   ]
  },
  {
   "cell_type": "code",
   "execution_count": null,
   "id": "e71776d4-b737-457e-a8b3-4ade00b05b99",
   "metadata": {
    "scrolled": true
   },
   "outputs": [],
   "source": []
  },
  {
   "cell_type": "code",
   "execution_count": 6,
   "id": "0200ed89-721c-452e-ad9d-4de0df7a0e03",
   "metadata": {},
   "outputs": [
    {
     "name": "stdout",
     "output_type": "stream",
     "text": [
      " Structure file format  : PDFFIT\n",
      " Phase number           : 1\n",
      " Phase title            : CsPbBr3_Orthorhombic_pym\n",
      "\n",
      " Lattice parameters     : 8.45385             11.8789             8.10108\n",
      "           & angles     : 90                  90                  90\n",
      " Unit cell volume       : 813.53\n",
      " Number density         : 0.0245842\n",
      " Metric tensor          : 71.4675             0                   0\n",
      "                          0                   141.109             0\n",
      "                          0                   0                   65.6275\n",
      "\n",
      " Recip. lat. parameters : 0.118289            0.0841828           0.12344\n",
      "               & angles : 90                  90                  90\n",
      " Recip. unit cell vol.  : 0.00122921\n",
      " Recip. metric tensor   : 0.0139924           0                   0\n",
      "                          0                   0.00708674          0\n",
      "                          0                   0                   0.0152375\n",
      "\n",
      " Structure file format  : PDFFIT\n",
      " Phase number           : 2\n",
      " Phase title            : CsPbCl3_cubic_pym\n",
      "\n",
      " Lattice parameters     : 5.605               5.605               5.605\n",
      "           & angles     : 90                  90                  90\n",
      " Unit cell volume       : 176.087\n",
      " Number density         : 0.0283951\n",
      " Metric tensor          : 31.416              0                   0\n",
      "                          0                   31.416              0\n",
      "                          0                   0                   31.416\n",
      "\n",
      " Recip. lat. parameters : 0.178412            0.178412            0.178412\n",
      "               & angles : 90                  90                  90\n",
      " Recip. unit cell vol.  : 0.00567902\n",
      " Recip. metric tensor   : 0.0318309           0                   0\n",
      "                          0                   0.0318309           0\n",
      "                          0                   0                   0.0318309\n",
      "\n"
     ]
    }
   ],
   "source": [
    "# Load and add structure ------------------------------------------------------------------\n",
    "for pym in pym_cif:\n",
    "    stru = loadStructure(pym)\n",
    "    stru.Uisoequiv = 0.04\n",
    "    stru.title = os.path.basename(pym)[:-4]\n",
    "    #Add loaded .cif \n",
    "    pf.add_structure(stru)"
   ]
  },
  {
   "cell_type": "code",
   "execution_count": 7,
   "id": "14659068-f233-43a3-ad40-0b0eabe123ec",
   "metadata": {},
   "outputs": [
    {
     "data": {
      "text/plain": [
       "2"
      ]
     },
     "execution_count": 7,
     "metadata": {},
     "output_type": "execute_result"
    }
   ],
   "source": [
    "# Check num of phases in PDF calculator object\n",
    "pf.num_phases()"
   ]
  },
  {
   "cell_type": "code",
   "execution_count": 8,
   "id": "8e25dd51-5c62-47aa-af34-69747c843ef9",
   "metadata": {},
   "outputs": [
    {
     "name": "stdout",
     "output_type": "stream",
     "text": [
      "pf.num_atoms() = 20\n",
      "pf.get_atoms() = ['CS', 'CS', 'CS', 'CS', 'PB', 'PB', 'PB', 'PB', 'BR', 'BR', 'BR', 'BR', 'BR', 'BR', 'BR', 'BR', 'BR', 'BR', 'BR', 'BR']\n"
     ]
    }
   ],
   "source": [
    "# Switch to phase 1.\n",
    "# Print num of atoms and nelement symbols to check.\n",
    "pf.setphase(1)\n",
    "print(f'{pf.num_atoms() = }')\n",
    "print(f'{pf.get_atoms() = }')"
   ]
  },
  {
   "cell_type": "code",
   "execution_count": 9,
   "id": "a1e49108-8bac-460c-a56c-b6a6d4f9c0b5",
   "metadata": {},
   "outputs": [],
   "source": [
    "# Configure Refinement of phase 1: CsPbBr3 ------------------------------\n",
    "\n",
    "# Refine lattice parameters a, b, c.\n",
    "pf.constrain(pf.lat(1), \"@11\")\n",
    "pf.constrain(pf.lat(2), \"@12\")\n",
    "pf.constrain(pf.lat(3), \"@13\")\n",
    "# set initial value of parameter @1, @2, @3\n",
    "pf.setpar(11, pf.lat(1))\n",
    "pf.setpar(12, pf.lat(2))\n",
    "pf.setpar(13, pf.lat(3))\n",
    "\n",
    "# Refine phase scale factor.  Right side can have formulas.\n",
    "pf.constrain('pscale', '@111')\n",
    "pf.setpar(111, 0.5)\n",
    "# pf.setpar(20, pf.getvar(pf.pscale) / 2.0)\n",
    "\n",
    "# Refine sharpening factor for correlated motion of close atoms.\n",
    "pf.constrain(pf.delta2, '@122')\n",
    "pf.setpar(122, 6.87)\n",
    "\n",
    "# Refine diameter for the spherical particle\n",
    "pf.constrain(pf.spdiameter, '@133')\n",
    "pf.setpar(133, 46)\n",
    "\n",
    "# Set temperature factors isotropic to each atom with an initial value 0.04\n",
    "# idx starts from 1 not 0\n",
    "# 1-4: Cs\n",
    "for idx in range(1, 5):\n",
    "    pf.constrain(pf.u11(idx), '@101')\n",
    "    pf.constrain(pf.u22(idx), '@101')\n",
    "    pf.constrain(pf.u33(idx), '@101')\n",
    "pf.setpar(101, 0.04)\n",
    "\n",
    "# 5-8: Pb\n",
    "for idx in range(5, 9):\n",
    "    pf.constrain(pf.u11(idx), '@102')\n",
    "    pf.constrain(pf.u22(idx), '@102')\n",
    "    pf.constrain(pf.u33(idx), '@102')\n",
    "pf.setpar(102, 0.04)\n",
    "\n",
    "# 9-16: Br\n",
    "for idx in range(9, 17):\n",
    "    pf.constrain(pf.u11(idx), '@103')\n",
    "    pf.constrain(pf.u22(idx), '@103')\n",
    "    pf.constrain(pf.u33(idx), '@103')\n",
    "pf.setpar(103, 0.04)\n",
    "\n",
    "# 16-20: Br\n",
    "for idx in range(17, 21):\n",
    "    pf.constrain(pf.u11(idx), '@104')\n",
    "    pf.constrain(pf.u22(idx), '@104')\n",
    "    pf.constrain(pf.u33(idx), '@104')\n",
    "pf.setpar(104, 0.1)"
   ]
  },
  {
   "cell_type": "code",
   "execution_count": 10,
   "id": "645f59f5-b05b-48f9-ae92-dcd3ad441fa9",
   "metadata": {},
   "outputs": [
    {
     "name": "stdout",
     "output_type": "stream",
     "text": [
      "pf.num_atoms() = 5\n",
      "pf.get_atoms() = ['CS', 'PB', 'CL', 'CL', 'CL']\n"
     ]
    }
   ],
   "source": [
    "# Switch to phase 2.\n",
    "# Print num of atoms and nelement symbols to check.\n",
    "pf.setphase(2)\n",
    "print(f'{pf.num_atoms() = }')\n",
    "print(f'{pf.get_atoms() = }')"
   ]
  },
  {
   "cell_type": "code",
   "execution_count": 11,
   "id": "06ab90ce-9f33-4a7d-9971-69bad3529474",
   "metadata": {},
   "outputs": [],
   "source": [
    "# Configure Refinement of phase 1: CsPbCl3 ------------------------------\n",
    "\n",
    "# Refine lattice parameters a, b, c.\n",
    "pf.constrain(pf.lat(1), \"@21\")\n",
    "pf.constrain(pf.lat(2), \"@21\")\n",
    "pf.constrain(pf.lat(3), \"@21\")\n",
    "# set initial value of parameter @1, @2, @3\n",
    "pf.setpar(21, pf.lat(1))\n",
    "pf.setpar(21, pf.lat(2))\n",
    "pf.setpar(21, pf.lat(3))\n",
    "\n",
    "# Refine phase scale factor.  Right side can have formulas.\n",
    "pf.constrain('pscale', '1-@111')\n",
    "# pf.setpar(111, 0.5)\n",
    "# pf.setpar(20, pf.getvar(pf.pscale) / 2.0)\n",
    "\n",
    "# Refine sharpening factor for correlated motion of close atoms.\n",
    "# same delta2 as in phase 1\n",
    "pf.constrain(pf.delta2, '@122')\n",
    "# pf.setpar(122, 0.0003)\n",
    "\n",
    "# Refine diameter for the spherical particle\n",
    "pf.constrain(pf.spdiameter, '@233')\n",
    "pf.setpar(233, 20)\n",
    "\n",
    "# Set temperature factors isotropic to each atom with an initial value 0.04\n",
    "# idx starts from 1 not 0\n",
    "# 1: Cs  -->  same temperature factor as Cs in phase 1\n",
    "for idx in range(1, 2):\n",
    "    pf.constrain(pf.u11(idx), '@101')\n",
    "    pf.constrain(pf.u22(idx), '@101')\n",
    "    pf.constrain(pf.u33(idx), '@101')\n",
    "pf.setpar(101, 0.04)\n",
    "\n",
    "# 2: Pb  -->  same temperature factor as Pb in phase 1\n",
    "for idx in range(2, 3):\n",
    "    pf.constrain(pf.u11(idx), '@102')\n",
    "    pf.constrain(pf.u22(idx), '@102')\n",
    "    pf.constrain(pf.u33(idx), '@102')\n",
    "pf.setpar(102, 0.04)\n",
    "\n",
    "# 3-5: Cl\n",
    "for idx in range(3, 6):\n",
    "    pf.constrain(pf.u11(idx), '@203')\n",
    "    pf.constrain(pf.u22(idx), '@203')\n",
    "    pf.constrain(pf.u33(idx), '@203')\n",
    "pf.setpar(203, 0.04)"
   ]
  },
  {
   "cell_type": "code",
   "execution_count": 12,
   "id": "5d51b414-2d19-49de-8d93-72f6405af490",
   "metadata": {},
   "outputs": [],
   "source": [
    "# Refine PDF damping due to instrument Q-resolution.\n",
    "# Left side can be also passed as a reference to PdfFit object\n",
    "# pf.constrain(pf.qdamp, '@901')\n",
    "# pf.setpar(901, 0.03)\n",
    "\n",
    "# Refine data scale factor\n",
    "pf.constrain(pf.dscale, '@902')\n",
    "pf.setpar(902, 0.65)\n",
    "\n",
    "# Set value for Qdamp, Qbraod\n",
    "pf.setvar(pf.qdamp, 0.033)\n",
    "pf.setvar(pf.qbroad, 0.016)"
   ]
  },
  {
   "cell_type": "code",
   "execution_count": 13,
   "id": "fe3f39f5-5359-4c23-affc-807922e7d807",
   "metadata": {},
   "outputs": [
    {
     "data": {
      "text/plain": [
       "\u001b[0;31mSignature:\u001b[0m \u001b[0mpf\u001b[0m\u001b[0;34m.\u001b[0m\u001b[0mpdfrange\u001b[0m\u001b[0;34m(\u001b[0m\u001b[0miset\u001b[0m\u001b[0;34m,\u001b[0m \u001b[0mrmin\u001b[0m\u001b[0;34m,\u001b[0m \u001b[0mrmax\u001b[0m\u001b[0;34m)\u001b[0m\u001b[0;34m\u001b[0m\u001b[0;34m\u001b[0m\u001b[0m\n",
       "\u001b[0;31mDocstring:\u001b[0m\n",
       "pdfrange(iset, rmin, rmax) --> Set the range of the fit.\n",
       "\n",
       "iset    -- data set to consider\n",
       "rmin    -- minimum r-value of fit\n",
       "rmax    -- maximum r-value of fit\n",
       "\n",
       "Raises: ValueError for bad input values\n",
       "\u001b[0;31mFile:\u001b[0m      /opt/anaconda3/envs/py3.12_base/lib/python3.12/site-packages/diffpy/pdffit2/pdffit.py\n",
       "\u001b[0;31mType:\u001b[0m      method"
      ]
     },
     "metadata": {},
     "output_type": "display_data"
    }
   ],
   "source": [
    "pf.pdfrange?"
   ]
  },
  {
   "cell_type": "code",
   "execution_count": 14,
   "id": "31d01b62",
   "metadata": {},
   "outputs": [
    {
     "name": "stdout",
     "output_type": "stream",
     "text": [
      "*******************\n",
      "Starting refinement\n",
      "*******************\n",
      " Dataset: 1   Phase: 1  2  \n",
      "\n",
      "******************************** ITER: 0 ********************************\n",
      "\n",
      " Refinement parameters :\n",
      "  11:  8.453847    12: 11.878911    13:  8.101078    21:  5.605000\n",
      " 101:  0.040000   102:  0.040000   103:  0.040000   104:  0.100000\n",
      " 111:  0.500000   122:  6.870000   133: 46.000000   203:  0.040000\n",
      " 233: 20.000000   902:  0.650000  \n",
      "\n",
      " chisq.: 103.604   red.chisq.: 0.0180589   Rw: 0.733192\n",
      "\n",
      "******************************** ITER: 1 ********************************\n",
      "\n",
      " Refinement parameters :\n",
      "  11:  8.453847    12: 11.878911    13:  8.101078    21:  5.605000\n",
      " 101:  0.040000   102:  0.040000   103:  0.040000   104:  0.100000\n",
      " 111:  0.500000   122:  6.870000   133: 46.000000   203:  0.040000\n",
      " 233: 20.000000   902:  0.650000  \n",
      "\n",
      " chisq.: 103.604   red.chisq.: 0.0180589   Rw: 0.733192\n",
      "\n",
      "******************************** ITER: 2 ********************************\n",
      "\n",
      " Refinement parameters :\n",
      "  11:  8.453847    12: 11.878911    13:  8.101078    21:  5.605000\n",
      " 101:  0.040000   102:  0.040000   103:  0.040000   104:  0.100000\n",
      " 111:  0.500000   122:  6.870000   133: 46.000000   203:  0.040000\n",
      " 233: 20.000000   902:  0.650000  \n",
      "\n",
      " chisq.: 103.604   red.chisq.: 0.0180589   Rw: 0.733192    stagnating\n",
      "\n",
      "******************************** ITER: 3 ********************************\n",
      "\n",
      " Refinement parameters :\n",
      "  11:  8.277827    12: 11.396039    13:  7.620155    21:  5.682735\n",
      " 101:  0.077958   102:  0.059242   103:  0.090139   104:  0.142629\n",
      " 111:  0.824819   122:  5.856466   133: 37.135231   203:  0.045829\n",
      " 233: 24.790929   902:  0.798069  \n",
      "\n",
      " chisq.: 96.2023   red.chisq.: 0.0167687   Rw: 0.706518\n",
      "\n",
      "******************************** ITER: 4 ********************************\n",
      "\n",
      " Refinement parameters :\n",
      "  11:  8.277827    12: 11.396039    13:  7.620155    21:  5.682735\n",
      " 101:  0.077958   102:  0.059242   103:  0.090139   104:  0.142629\n",
      " 111:  0.824819   122:  5.856466   133: 37.135231   203:  0.045829\n",
      " 233: 24.790929   902:  0.798069  \n",
      "\n",
      " chisq.: 96.2023   red.chisq.: 0.0167687   Rw: 0.706518    stagnating\n",
      "\n",
      "******************************** ITER: 5 ********************************\n",
      "\n",
      " Refinement parameters :\n",
      "  11:  8.413370    12: 12.093141    13:  7.688806    21:  5.745843\n",
      " 101:  0.077162   102:  0.040177   103:  0.097110   104:  0.021586\n",
      " 111:  0.783284   122:  6.387433   133: 53.026502   203:  0.111054\n",
      " 233: 46.323611   902:  0.726317  \n",
      "\n",
      " chisq.: 68.2857   red.chisq.: 0.0119027   Rw: 0.595244\n",
      "\n",
      "******************************** ITER: 6 ********************************\n",
      "\n",
      " Refinement parameters :\n",
      "  11:  8.432966    12: 11.955286    13:  7.729524    21:  5.674957\n",
      " 101:  0.126761   102:  0.018200   103:  0.060670   104:  0.061091\n",
      " 111:  0.696166   122:  6.895527   133: 32.028824   203:  0.073935\n",
      " 233: 109.103088   902:  0.612343  \n",
      "\n",
      " chisq.: 50.0237   red.chisq.: 0.00871948   Rw: 0.50947\n",
      "\n",
      "******************************** ITER: 7 ********************************\n",
      "\n",
      " Refinement parameters :\n",
      "  11:  8.467506    12: 11.691676    13:  7.804052    21:  5.710947\n",
      " 101:  0.099783   102:  0.031472   103:  0.028077   104:  0.083323\n",
      " 111:  0.656820   122:  6.183170   133: 36.797442   203:  0.091675\n",
      " 233: 51.148815   902:  0.710594  \n",
      "\n",
      " chisq.: 28.5159   red.chisq.: 0.00497053   Rw: 0.384657\n",
      "\n",
      "******************************** ITER: 8 ********************************\n",
      "\n",
      " Refinement parameters :\n",
      "  11:  8.474125    12: 11.474229    13:  7.880934    21:  5.737573\n",
      " 101:  0.099054   102:  0.035219   103:  0.047934   104:  0.130521\n",
      " 111:  0.739560   122:  7.096123   133: 39.360153   203:  0.076217\n",
      " 233: 90.567838   902:  0.647124  \n",
      "\n",
      " chisq.: 19.1901   red.chisq.: 0.00334496   Rw: 0.31555\n",
      "\n",
      "******************************** ITER: 9 ********************************\n",
      "\n",
      " Refinement parameters :\n",
      "  11:  8.458243    12: 11.432468    13:  7.924193    21:  5.730002\n",
      " 101:  0.093699   102:  0.031704   103:  0.046041   104:  0.148678\n",
      " 111:  0.752752   122:  6.898417   133: 43.775384   203:  0.057226\n",
      " 233: 160.250859   902:  0.650634  \n",
      "\n",
      " chisq.: 10.9709   red.chisq.: 0.0019123   Rw: 0.238589\n",
      "\n",
      "******************************** ITER: 10 ********************************\n",
      "\n",
      " Refinement parameters :\n",
      "  11:  8.445253    12: 11.439464    13:  7.924574    21:  5.733263\n",
      " 101:  0.095778   102:  0.033381   103:  0.046087   104:  0.134979\n",
      " 111:  0.738566   122:  6.871607   133: 45.020146   203:  0.067230\n",
      " 233: 210.199669   902:  0.653499  \n",
      "\n",
      " chisq.: 9.96177   red.chisq.: 0.00173641   Rw: 0.227352\n",
      "\n",
      "******************************** ITER: 11 ********************************\n",
      "\n",
      " Refinement parameters :\n",
      "  11:  8.436018    12: 11.439180    13:  7.929665    21:  5.733059\n",
      " 101:  0.094192   102:  0.033482   103:  0.047334   104:  0.143636\n",
      " 111:  0.747669   122:  6.875768   133: 45.826389   203:  0.063724\n",
      " 233: 240.930912   902:  0.653979  \n",
      "\n",
      " chisq.: 9.93029   red.chisq.: 0.00173092   Rw: 0.226992\n",
      "\n",
      "******************************** ITER: 12 ********************************\n",
      "\n",
      " Refinement parameters :\n",
      "  11:  8.432018    12: 11.442765    13:  7.930403    21:  5.733003\n",
      " 101:  0.094304   102:  0.033530   103:  0.047870   104:  0.137161\n",
      " 111:  0.746761   122:  6.875660   133: 46.037375   203:  0.064990\n",
      " 233: 244.888441   902:  0.652073  \n",
      "\n",
      " chisq.: 9.92623   red.chisq.: 0.00173021   Rw: 0.226946\n",
      "\n",
      "******************************** ITER: 13 ********************************\n",
      "\n",
      " Refinement parameters :\n",
      "  11:  8.429416    12: 11.443930    13:  7.931602    21:  5.732958\n",
      " 101:  0.094030   102:  0.033567   103:  0.048268   104:  0.140060\n",
      " 111:  0.748763   122:  6.882082   133: 46.290213   203:  0.064307\n",
      " 233: 248.348724   902:  0.651972  \n",
      "\n",
      " chisq.: 9.92537   red.chisq.: 0.00173006   Rw: 0.226936\n",
      "\n",
      "******************************** ITER: 14 ********************************\n",
      "\n",
      " Refinement parameters :\n",
      "  11:  8.428237    12: 11.444826    13:  7.931880    21:  5.732942\n",
      " 101:  0.094009   102:  0.033556   103:  0.048453   104:  0.137935\n",
      " 111:  0.748578   122:  6.881510   133: 46.353952   203:  0.064585\n",
      " 233: 247.835926   902:  0.651302  \n",
      "\n",
      " chisq.: 9.92512   red.chisq.: 0.00173002   Rw: 0.226933\n",
      "\n",
      "******************************** ITER: 15 ********************************\n",
      "\n",
      " Refinement parameters :\n",
      "  11:  8.427474    12: 11.445250    13:  7.932195    21:  5.732925\n",
      " 101:  0.093939   102:  0.033566   103:  0.048572   104:  0.138826\n",
      " 111:  0.749145   122:  6.883630   133: 46.429077   203:  0.064398\n",
      " 233: 248.784298   902:  0.651266  \n",
      "\n",
      " chisq.: 9.92504   red.chisq.: 0.00173001   Rw: 0.226932\n",
      "\n",
      "******************************** ITER: 16 ********************************\n",
      "\n",
      " Refinement parameters :\n",
      "  11:  8.427129    12: 11.445514    13:  7.932271    21:  5.732921\n",
      " 101:  0.093931   102:  0.033562   103:  0.048628   104:  0.138174\n",
      " 111:  0.749086   122:  6.883419   133: 46.446918   203:  0.064480\n",
      " 233: 248.604696   902:  0.651065  \n",
      "\n",
      " chisq.: 9.92502   red.chisq.: 0.00173   Rw: 0.226932\n",
      "\n",
      "******************************** ITER: 17 ********************************\n",
      "\n",
      " Refinement parameters :\n",
      "  11:  8.426906    12: 11.445642    13:  7.932361    21:  5.732916\n",
      " 101:  0.093911   102:  0.033565   103:  0.048662   104:  0.138445\n",
      " 111:  0.749254   122:  6.884059   133: 46.469036   203:  0.064424\n",
      " 233: 248.888174   902:  0.651056  \n",
      "\n",
      " chisq.: 9.92501   red.chisq.: 0.00173   Rw: 0.226932\n",
      "\n",
      "******************************** ITER: 18 ********************************\n",
      "\n",
      " Refinement parameters :\n",
      "  11:  8.426806    12: 11.445720    13:  7.932381    21:  5.732915\n",
      " 101:  0.093909   102:  0.033564   103:  0.048679   104:  0.138248\n",
      " 111:  0.749234   122:  6.883989   133: 46.474003   203:  0.064449\n",
      " 233: 248.831118   902:  0.650997  \n",
      "\n",
      " chisq.: 9.92501   red.chisq.: 0.00173   Rw: 0.226932\n",
      "\n",
      "******************************** ITER: 19 ********************************\n",
      "\n",
      " Refinement parameters :\n",
      "  11:  8.426741    12: 11.445757    13:  7.932407    21:  5.732913\n",
      " 101:  0.093903   102:  0.033565   103:  0.048689   104:  0.138331\n",
      " 111:  0.749284   122:  6.884179   133: 46.480495   203:  0.064432\n",
      " 233: 248.915941   902:  0.650995  \n",
      "\n",
      " chisq.: 9.92501   red.chisq.: 0.00173   Rw: 0.226932\n",
      "\n",
      "******************************** ITER: 20 ********************************\n",
      "\n",
      " Refinement parameters :\n",
      "  11:  8.426712    12: 11.445780    13:  7.932413    21:  5.732913\n",
      " 101:  0.093902   102:  0.033564   103:  0.048694   104:  0.138272\n",
      " 111:  0.749278   122:  6.884156   133: 46.481882   203:  0.064439\n",
      " 233: 248.898032   902:  0.650977  \n",
      "\n",
      " chisq.: 9.92501   red.chisq.: 0.00173   Rw: 0.226932\n",
      "\n",
      "******************************** ITER: 21 ********************************\n",
      "\n",
      " Refinement parameters :\n",
      "  11:  8.426693    12: 11.445790    13:  7.932421    21:  5.732912\n",
      " 101:  0.093900   102:  0.033565   103:  0.048697   104:  0.138296\n",
      " 111:  0.749293   122:  6.884213   133: 46.483787   203:  0.064434\n",
      " 233: 248.923338   902:  0.650977  \n",
      "\n",
      " chisq.: 9.92501   red.chisq.: 0.00173   Rw: 0.226932\n",
      "\n",
      "******************************** ITER: 22 ********************************\n",
      "\n",
      " Refinement parameters :\n",
      "  11:  8.426685    12: 11.445797    13:  7.932422    21:  5.732912\n",
      " 101:  0.093900   102:  0.033565   103:  0.048698   104:  0.138279\n",
      " 111:  0.749291   122:  6.884206   133: 46.484174   203:  0.064437\n",
      " 233: 248.917764   902:  0.650972  \n",
      "\n",
      " chisq.: 9.92501   red.chisq.: 0.00173   Rw: 0.226932    stagnating\n",
      "\n",
      "******************************** ITER: 23 ********************************\n",
      "\n",
      " Refinement parameters :\n",
      "  11:  8.426679    12: 11.445800    13:  7.932424    21:  5.732912\n",
      " 101:  0.093900   102:  0.033565   103:  0.048699   104:  0.138286\n",
      " 111:  0.749295   122:  6.884222   133: 46.484732   203:  0.064435\n",
      " 233: 248.925295   902:  0.650972  \n",
      "\n",
      " chisq.: 9.92501   red.chisq.: 0.00173   Rw: 0.226932    stagnating\n",
      "\n",
      "******************************** ITER: 24 ********************************\n",
      "\n",
      " Refinement parameters :\n",
      "  11:  8.426677    12: 11.445802    13:  7.932425    21:  5.732912\n",
      " 101:  0.093900   102:  0.033565   103:  0.048699   104:  0.138281\n",
      " 111:  0.749295   122:  6.884220   133: 46.484841   203:  0.064436\n",
      " 233: 248.923575   902:  0.650970  \n",
      "\n",
      " chisq.: 9.92501   red.chisq.: 0.00173   Rw: 0.226932    stagnating\n",
      "\n",
      "================================ FINAL ==================================\n",
      "\n",
      " Refinement parameters :\n",
      "  11:  8.426677    12: 11.445802    13:  7.932425    21:  5.732912\n",
      " 101:  0.093900   102:  0.033565   103:  0.048699   104:  0.138281\n",
      " 111:  0.749295   122:  6.884220   133: 46.484841   203:  0.064436\n",
      " 233: 248.923575   902:  0.650970  \n",
      "\n",
      " chisq.: 9.92501   red.chisq.: 0.00173   Rw: 0.226932\n",
      "\n",
      "=========================================================================\n",
      "\n",
      " Saving PDF data set 1 to file : CsPbBr2-Cl_64micl_refinement.fgr\n",
      " Saving structure phase 1 to file : CsPbBr2-Cl_64micl_refinement.rstr\n",
      " Saving fit results to file : CsPbBr2-Cl_64micl_refinement.res\n"
     ]
    }
   ],
   "source": [
    "# Refine \n",
    "\n",
    "pf.pdfrange(1, 2.5, 60)\n",
    "pf.refine()\n",
    "\n",
    "# Save results\n",
    "pf.save_pdf(1, \"CsPbBr2-Cl_64micl_refinement.fgr\")\n",
    "pf.save_struct(1, \"CsPbBr2-Cl_64micl_refinement.rstr\")\n",
    "pf.save_res(\"CsPbBr2-Cl_64micl_refinement.res\")"
   ]
  },
  {
   "cell_type": "code",
   "execution_count": 15,
   "id": "c6f252d3-466b-46cf-be82-884649b69b99",
   "metadata": {},
   "outputs": [
    {
     "data": {
      "image/png": "[encoded data removed]",
      "text/plain": [
       "<Figure size 640x480 with 1 Axes>"
      ]
     },
     "metadata": {},
     "output_type": "display_data"
    }
   ],
   "source": [
    "# Plot results\n",
    "\n",
    "# pylab is matplotlib interface with MATLAB-like plotting commands\n",
    "import pylab\n",
    "\n",
    "# obtain data from PdfFit calculator object\n",
    "r = pf.getR()\n",
    "Gobs = pf.getpdf_obs()\n",
    "Gfit = pf.getpdf_fit()\n",
    "\n",
    "# calculate difference curve, with pylab arrays it can be done\n",
    "# without for loop\n",
    "Gdiff = pylab.array(Gobs) - pylab.array(Gfit)\n",
    "Gdiff_baseline = -1\n",
    "\n",
    "pylab.plot(r, Gobs, 'ko')\n",
    "pylab.plot(r, Gfit, 'b-')\n",
    "pylab.plot(r, Gdiff + Gdiff_baseline, 'r-')\n",
    "\n",
    "pylab.xlabel(u'r (Å)')\n",
    "pylab.ylabel(u'G (Å$^{-2}$)')\n",
    "pylab.title('Fit of CsPbBr2-Cl_64micl to x-ray experimental PDF')\n",
    "\n",
    "# display plot window, this must be the last command in the script\n",
    "pylab.show()"
   ]
  },
  {
   "cell_type": "code",
   "execution_count": 16,
   "id": "93f5c994",
   "metadata": {},
   "outputs": [
    {
     "data": {
      "text/plain": [
       "{'atom': [0.6433336585734138, 0.3566663414265861],\n",
       " 'cell': [0.31078935353472326, 0.6892106464652769],\n",
       " 'mass': [0.7008209747091005, 0.29917902529089946],\n",
       " 'stdatom': [0.1372186466447758, 0.13721864664477576],\n",
       " 'stdcell': [0.128095195691193, 0.12809519569119301],\n",
       " 'stdmass': [0.12538713092209403, 0.12538713092209405]}"
      ]
     },
     "execution_count": 16,
     "metadata": {},
     "output_type": "execute_result"
    }
   ],
   "source": [
    "pf.phase_fractions()"
   ]
  },
  {
   "cell_type": "code",
   "execution_count": 17,
   "id": "ee372840-0fb5-4432-bc0a-9e5ade60a38b",
   "metadata": {},
   "outputs": [
    {
     "data": {
      "text/plain": [
       "\u001b[0;31mSignature:\u001b[0m \u001b[0mpf\u001b[0m\u001b[0;34m.\u001b[0m\u001b[0mspdiameter\u001b[0m\u001b[0;34m(\u001b[0m\u001b[0;34m)\u001b[0m\u001b[0;34m\u001b[0m\u001b[0;34m\u001b[0m\u001b[0m\n",
       "\u001b[0;31mDocstring:\u001b[0m\n",
       "spdiameter() --> Get reference to spdiameter (phase property).\n",
       "\n",
       "Diameter value for the spherical particle PDF correction.\n",
       "Spherical envelope is not applied when spdiameter equals 0.\n",
       "\u001b[0;31mFile:\u001b[0m      /opt/anaconda3/envs/py3.12_base/lib/python3.12/site-packages/diffpy/pdffit2/pdffit.py\n",
       "\u001b[0;31mType:\u001b[0m      function"
      ]
     },
     "metadata": {},
     "output_type": "display_data"
    }
   ],
   "source": [
    "pf.spdiameter?"
   ]
  },
  {
   "cell_type": "code",
   "execution_count": 18,
   "id": "588eae21-9ce7-41d7-a5db-37f5ab4bd4b8",
   "metadata": {},
   "outputs": [
    {
     "data": {
      "text/plain": [
       "248.92357512796005"
      ]
     },
     "execution_count": 18,
     "metadata": {},
     "output_type": "execute_result"
    }
   ],
   "source": [
    "pf.getvar(pf.spdiameter)"
   ]
  },
  {
   "cell_type": "code",
   "execution_count": 19,
   "id": "cc1eec04-b681-4143-be61-a435a90bbb5a",
   "metadata": {},
   "outputs": [
    {
     "data": {
      "text/plain": [
       "46.484841051867654"
      ]
     },
     "execution_count": 19,
     "metadata": {},
     "output_type": "execute_result"
    }
   ],
   "source": [
    "pf.setphase(1)\n",
    "pf.getvar(pf.spdiameter)"
   ]
  },
  {
   "cell_type": "code",
   "execution_count": null,
   "id": "efb892b7-925b-4aa6-82ff-3f097676052e",
   "metadata": {},
   "outputs": [],
   "source": []
  },
  {
   "cell_type": "code",
   "execution_count": null,
   "id": "aa6f40bd-5128-4acd-867c-cec804c65117",
   "metadata": {},
   "outputs": [],
   "source": []
  }
 ],
 "metadata": {
  "kernelspec": {
   "display_name": "Python 3 (ipykernel)",
   "language": "python",
   "name": "python3"
  },
  "language_info": {
   "codemirror_mode": {
    "name": "ipython",
    "version": 3
   },
   "file_extension": ".py",
   "mimetype": "text/x-python",
   "name": "python",
   "nbconvert_exporter": "python",
   "pygments_lexer": "ipython3",
   "version": "3.12.2"
  }
 },
 "nbformat": 4,
 "nbformat_minor": 5
}
